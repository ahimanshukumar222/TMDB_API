{
  "nbformat": 4,
  "nbformat_minor": 0,
  "metadata": {
    "colab": {
      "name": "TMDB API.ipynb",
      "provenance": []
    },
    "kernelspec": {
      "name": "python3",
      "display_name": "Python 3"
    },
    "language_info": {
      "name": "python"
    }
  },
  "cells": [
    {
      "cell_type": "markdown",
      "source": [
        "**TMDB API**"
      ],
      "metadata": {
        "id": "aALfZIc9ecJR"
      }
    },
    {
      "cell_type": "markdown",
      "source": [
        "TMDb API enables us to find out the latest information about TV Shows, Movies and the biggest names in entertainment sector for a marvelous and fun TV/Movie watching experience."
      ],
      "metadata": {
        "id": "X3fAZruyerDM"
      }
    },
    {
      "cell_type": "markdown",
      "source": [
        "By collecting the data using TMDb API one can recommend TV Shows, Movies and all sorts of entertainment on the basis of user’s affinity to specific genres, actors, likes and dislikes.\n",
        "We can find details about upcoming TV Shows and Movies.\n",
        "We can find what is the most popular and/ or exclusive/new content at a given time.\n"
      ],
      "metadata": {
        "id": "aAvr1LJce8c4"
      }
    },
    {
      "cell_type": "markdown",
      "source": [
        "problem-1 Fetch the names of top 5 similar movies to 'Inception' from the TMDb API"
      ],
      "metadata": {
        "id": "TwcleiCffqbp"
      }
    },
    {
      "cell_type": "code",
      "source": [
        "import requests\n",
        "param = {'api_key':'e226f4a5f5bace766952aa0d17182959','query':'Inception'}\n",
        "response = requests.get('https://api.themoviedb.org/3/search/movie',params=param)\n",
        "\n",
        "data = response.json()\n",
        "for ele in data['results']:\n",
        "    if ele['title']=='Inception':\n",
        "        id = ele['id']\n",
        "\n",
        "\n",
        "paramm ={'api_key':'e226f4a5f5bace766952aa0d17182959'}\n",
        "\n",
        "response_1 =  requests.get('https://api.themoviedb.org/3/movie/846190/similar',params=paramm)\n",
        "\n",
        "python_data = response_1.json()\n",
        "a=1\n",
        "for ele in python_data['results']:\n",
        "    if a==6:\n",
        "        break\n",
        "    print(ele['title'])\n",
        "    a+=1"
      ],
      "metadata": {
        "colab": {
          "base_uri": "https://localhost:8080/"
        },
        "id": "7S6t-et_fyzc",
        "outputId": "974e0fac-5426-4904-bc04-f7316757e43d"
      },
      "execution_count": 3,
      "outputs": [
        {
          "output_type": "stream",
          "name": "stdout",
          "text": [
            "Inception\n",
            "Munich\n",
            "Downfall\n",
            "The Passion of the Christ\n",
            "The Last Samurai\n"
          ]
        }
      ]
    },
    {
      "cell_type": "markdown",
      "source": [
        "problem-2 Fetching the top rated english movies in the US region using the TMDb API. From the result, printing the first 10 movies which have original language as english. Also printing their genres"
      ],
      "metadata": {
        "id": "B8vM3-xEfKd2"
      }
    },
    {
      "cell_type": "code",
      "source": [
        "\n",
        "import requests\n",
        "api_key = \"e226f4a5f5bace766952aa0d17182959\"\n",
        "api_link = \"https://api.themoviedb.org/3\"\n",
        "\n",
        "params = {'api_key':api_key,'language':'en-US'}\n",
        "header = {'Accept': 'application/json'}\n",
        "response = requests.get(api_link + \"/genre/movie/list\", headers = header, params=params,verify=False)\n",
        "data = response.json()\n",
        "d = {}\n",
        "for i in data['genres']:\n",
        "    d[i['id']] = i['name']\n",
        "\n",
        "param = {'api_key':'e226f4a5f5bace766952aa0d17182959','language':'en-US','region':'US'}\n",
        "response = requests.get('https://api.themoviedb.org/3/movie/top_rated',params=param)\n",
        "\n",
        "data = response.json()\n",
        "\n",
        "count = 0\n",
        "for i in data['results']:\n",
        "    if count==10:\n",
        "        break\n",
        "    if i['original_language'] == 'en':\n",
        "        print(i['title'],end=' - ')\n",
        "        for j in i['genre_ids']:\n",
        "            print(d[j],end=', ')\n",
        "        print(\"\")\n",
        "        count+=1\n",
        "# print(response.status_code)\n"
      ],
      "metadata": {
        "colab": {
          "base_uri": "https://localhost:8080/"
        },
        "id": "-Mf-qkKufN5A",
        "outputId": "e648e374-7200-4af3-cd76-d2fcf5bb14a1"
      },
      "execution_count": 2,
      "outputs": [
        {
          "output_type": "stream",
          "name": "stderr",
          "text": [
            "/usr/local/lib/python3.7/dist-packages/urllib3/connectionpool.py:847: InsecureRequestWarning: Unverified HTTPS request is being made. Adding certificate verification is strongly advised. See: https://urllib3.readthedocs.io/en/latest/advanced-usage.html#ssl-warnings\n",
            "  InsecureRequestWarning)\n"
          ]
        },
        {
          "output_type": "stream",
          "name": "stdout",
          "text": [
            "The Shawshank Redemption - Drama, Crime, \n",
            "The Godfather - Drama, Crime, \n",
            "Schindler's List - Drama, History, War, \n",
            "The Godfather Part II - Drama, Crime, \n",
            "12 Angry Men - Drama, \n",
            "Gabriel's Inferno - Romance, \n",
            "Gabriel's Inferno: Part II - Romance, \n",
            "Purple Hearts - Romance, Drama, \n",
            "The Green Mile - Fantasy, Drama, Crime, \n",
            "The Dark Knight - Drama, Action, Crime, Thriller, \n"
          ]
        }
      ]
    },
    {
      "cell_type": "markdown",
      "source": [
        "problem -3 Find the name and birthplace of the present most popular person according to TMDb API"
      ],
      "metadata": {
        "id": "VfrNQ_SufjDa"
      }
    },
    {
      "cell_type": "code",
      "source": [
        "import requests\n",
        "## Write your code here\n",
        "api_key = \"e226f4a5f5bace766952aa0d17182959\" \n",
        "api_link = \"https://api.themoviedb.org/3\" #/movie/top_rated/apikey = \n",
        "header = {'Accept': 'application/json'} \n",
        "params = {'api_key':api_key} \n",
        "response = requests.get(api_link + \"/person/popular\", headers = header, params = params) \n",
        "data=response.json()\n",
        "id=data.get('results')[0].get('id')\n",
        "print(id)\n",
        "popular=data.get('results')[0].get('name')\n",
        "a=requests.get(api_link + \"/person/\" + str(id), headers = header, params = params)\n",
        "b=a.json()\n",
        "print(popular,\"-\",b.get('place_of_birth'))\n"
      ],
      "metadata": {
        "colab": {
          "base_uri": "https://localhost:8080/"
        },
        "id": "MwI17JE-gBHF",
        "outputId": "a71c78bc-c32d-4a68-e6be-695515ab0fc5"
      },
      "execution_count": 4,
      "outputs": [
        {
          "output_type": "stream",
          "name": "stdout",
          "text": [
            "224513\n",
            "Ana de Armas - Santa Cruz del Norte, Cuba\n"
          ]
        }
      ]
    },
    {
      "cell_type": "markdown",
      "source": [
        "problem -4 Fetch the Instagram and Twitter handle of Indian Actress \"Alia Bhatt\" from the TMDb API."
      ],
      "metadata": {
        "id": "Xbv-vsepgMFX"
      }
    },
    {
      "cell_type": "code",
      "source": [
        "\n",
        "import requests\n",
        "param = {'api_key':'e226f4a5f5bace766952aa0d17182959','person_id':1108120}\n",
        "response_1 = requests.get('https://api.themoviedb.org/3/person/1108120/external_ids',params=param)\n",
        "\n",
        "data_1 = response_1.json()\n",
        "print(data_1['instagram_id'],data_1['twitter_id'])"
      ],
      "metadata": {
        "colab": {
          "base_uri": "https://localhost:8080/"
        },
        "id": "pmmYcT68gQCi",
        "outputId": "30920645-72b8-44cd-e3ea-84163efbe4ee"
      },
      "execution_count": 7,
      "outputs": [
        {
          "output_type": "stream",
          "name": "stdout",
          "text": [
            "aliaabhatt Aliaa08\n"
          ]
        }
      ]
    },
    {
      "cell_type": "markdown",
      "source": [
        "problem - 5 Fetch the names of the character played by Tom Cruise in the movies"
      ],
      "metadata": {
        "id": "PDyDIokLgipB"
      }
    },
    {
      "cell_type": "code",
      "source": [
        "li = ['Top Gun','Mission: Impossible - Fallout','Minority Report','Edge of Tomorrow']\n",
        "import requests\n",
        "param = {'api_key':'e226f4a5f5bace766952aa0d17182959','person_id':500}\n",
        "response = requests.get('https://api.themoviedb.org/3/person/500/movie_credits',params=param)\n",
        "\n",
        "data = response.json()\n",
        "\n",
        "for i in li:\n",
        "    for ele in data['cast']:\n",
        "        if ele['title'] == i:\n",
        "            print(ele['character'])\n",
        "\n"
      ],
      "metadata": {
        "colab": {
          "base_uri": "https://localhost:8080/"
        },
        "id": "_tC5b7n2gna8",
        "outputId": "0c46f222-ee19-46ae-83bc-e5a0eaa279fc"
      },
      "execution_count": 8,
      "outputs": [
        {
          "output_type": "stream",
          "name": "stdout",
          "text": [
            "Lt. Pete 'Maverick' Mitchell\n",
            "Ethan Hunt\n",
            "Chief John Anderton\n",
            "Maj. William 'Bill' Cage\n"
          ]
        }
      ]
    },
    {
      "cell_type": "markdown",
      "source": [
        "problem-6 Count the number of males and females in the cast of \"Money Heist\" using the TMDb API."
      ],
      "metadata": {
        "id": "fSMYiVIPgy7t"
      }
    },
    {
      "cell_type": "code",
      "source": [
        "\n",
        "import requests\n",
        "## Write your code here\n",
        "api_key = \"e226f4a5f5bace766952aa0d17182959\" \n",
        "api_link = \"https://api.themoviedb.org/3\" \n",
        "params = {'query':'Money Heist','api_key':api_key} \n",
        "header = {'Accept': 'application/json'} \n",
        "response = requests.get(api_link + '/search/tv/', headers = header, params = params) \n",
        "data = response.json() \n",
        "result=data.get('results')\n",
        "for i in result:\n",
        "    if i.get('name')=='Money Heist':\n",
        "        id=i.get('id')    \n",
        "params1={'id':id,'api_key':api_key}\n",
        "response1 = requests.get(api_link + '/tv/' + str(id) + '/credits', headers = header, params = params1) \n",
        "data1 = response1.json() \n",
        "cast=data1.get('cast')\n",
        "count_male=0\n",
        "count_female=0\n",
        "for c in cast:\n",
        "    if c.get('gender')==1:\n",
        "        count_female+=1\n",
        "    if c.get('gender')==2:\n",
        "        count_male+=1\n",
        "print('male_count = ',count_male,'female_count = ',count_female)\n"
      ],
      "metadata": {
        "colab": {
          "base_uri": "https://localhost:8080/"
        },
        "id": "PGrwBXX4g2n3",
        "outputId": "7477770c-07ff-4772-ea57-c0a05fbd2622"
      },
      "execution_count": 11,
      "outputs": [
        {
          "output_type": "stream",
          "name": "stdout",
          "text": [
            "male_count =  10 female_count =  5\n"
          ]
        }
      ]
    },
    {
      "cell_type": "code",
      "source": [
        ""
      ],
      "metadata": {
        "id": "m8baOR9bg4UX"
      },
      "execution_count": null,
      "outputs": []
    }
  ]
}